{
  "metadata": {
    "kernelspec": {
      "language": "python",
      "display_name": "Python 3",
      "name": "python3"
    },
    "language_info": {
      "name": "python",
      "version": "3.7.10",
      "mimetype": "text/x-python",
      "codemirror_mode": {
        "name": "ipython",
        "version": 3
      },
      "pygments_lexer": "ipython3",
      "nbconvert_exporter": "python",
      "file_extension": ".py"
    },
    "colab": {
      "name": "detr-face-detections.ipynb",
      "provenance": []
    }
  },
  "nbformat_minor": 0,
  "nbformat": 4,
  "cells": [
    {
      "cell_type": "code",
      "source": [
        "# This Python 3 environment comes with many helpful analytics libraries installed\n",
        "# It is defined by the kaggle/python Docker image: https://github.com/kaggle/docker-python\n",
        "# For example, here's several helpful packages to load\n",
        "\n",
        "import numpy as np # linear algebra\n",
        "import pandas as pd # data processing, CSV file I/O (e.g. pd.read_csv)\n",
        "\n",
        "# Input data files are available in the read-only \"../input/\" directory\n",
        "# For example, running this (by clicking run or pressing Shift+Enter) will list all files under the input directory\n",
        "\n",
        "import os\n",
        "for dirname, _, filenames in os.walk('/kaggle/input'):\n",
        "    for filename in filenames:\n",
        "        print(os.path.join(dirname, filename))\n",
        "\n",
        "# You can write up to 20GB to the current directory (/kaggle/working/) that gets preserved as output when you create a version using \"Save & Run All\" \n",
        "# You can also write temporary files to /kaggle/temp/, but they won't be saved outside of the current session"
      ],
      "metadata": {
        "_uuid": "8f2839f25d086af736a60e9eeb907d3b93b6e0e5",
        "_cell_guid": "b1076dfc-b9ad-4769-8c92-a6c4dae69d19",
        "execution": {
          "iopub.status.busy": "2021-11-07T08:24:11.378265Z",
          "iopub.execute_input": "2021-11-07T08:24:11.379202Z",
          "iopub.status.idle": "2021-11-07T08:24:11.395786Z",
          "shell.execute_reply.started": "2021-11-07T08:24:11.379069Z",
          "shell.execute_reply": "2021-11-07T08:24:11.395046Z"
        },
        "trusted": true,
        "id": "HA4acNDQDvbg"
      },
      "execution_count": null,
      "outputs": []
    },
    {
      "cell_type": "code",
      "source": [
        "from IPython.display import clear_output\n",
        "\n",
        "# Clone my repo\n",
        "!git clone https://github.com/NyanSwanAung/Object-Detection-Using-DETR-CustomDataset.git\n",
        "%cd Object-Detection-Using-DETR-CustomDataset/"
      ],
      "metadata": {
        "execution": {
          "iopub.status.busy": "2021-11-07T08:24:11.397589Z",
          "iopub.execute_input": "2021-11-07T08:24:11.398064Z",
          "iopub.status.idle": "2021-11-07T08:24:19.585252Z",
          "shell.execute_reply.started": "2021-11-07T08:24:11.398025Z",
          "shell.execute_reply": "2021-11-07T08:24:19.584411Z"
        },
        "trusted": true,
        "id": "MOV3SK-2Dvbo"
      },
      "execution_count": null,
      "outputs": []
    },
    {
      "cell_type": "code",
      "source": [
        "!wget https://github.com/NyanSwanAung/Object-Detection-Using-DETR-CustomDataset/releases/download/v1.0/WIDER_train.zip -O datasets/train.zip\n",
        "!unzip datasets/train.zip -d datasets\n",
        "!rm -r datasets/train.zip\n",
        "clear_output()"
      ],
      "metadata": {
        "execution": {
          "iopub.status.busy": "2021-11-07T08:24:19.586965Z",
          "iopub.execute_input": "2021-11-07T08:24:19.587257Z",
          "iopub.status.idle": "2021-11-07T08:29:19.186944Z",
          "shell.execute_reply.started": "2021-11-07T08:24:19.587218Z",
          "shell.execute_reply": "2021-11-07T08:29:19.186128Z"
        },
        "trusted": true,
        "id": "g5yW9WXsDvbp"
      },
      "execution_count": null,
      "outputs": []
    },
    {
      "cell_type": "code",
      "source": [
        "!wget https://github.com/NyanSwanAung/Object-Detection-Using-DETR-CustomDataset/releases/download/v1.0/WIDER_val.zip -O datasets/val.zip\n",
        "!unzip datasets/val.zip -d datasets\n",
        "!rm -r datasets/val.zip\n",
        "clear_output()"
      ],
      "metadata": {
        "execution": {
          "iopub.status.busy": "2021-11-07T08:29:19.189592Z",
          "iopub.execute_input": "2021-11-07T08:29:19.189870Z",
          "iopub.status.idle": "2021-11-07T08:30:53.974127Z",
          "shell.execute_reply.started": "2021-11-07T08:29:19.189828Z",
          "shell.execute_reply": "2021-11-07T08:30:53.973066Z"
        },
        "trusted": true,
        "id": "axySH-Y0Dvbq"
      },
      "execution_count": null,
      "outputs": []
    },
    {
      "cell_type": "code",
      "source": [
        "!wget https://github.com/NyanSwanAung/Object-Detection-Using-DETR-CustomDataset/releases/download/v1.0/WIDER_test.zip -O datasets/test.zip\n",
        "!unzip datasets/test.zip -d datasets\n",
        "!rm -r datasets/test.zip\n",
        "clear_output()"
      ],
      "metadata": {
        "execution": {
          "iopub.status.busy": "2021-11-07T08:30:53.976236Z",
          "iopub.execute_input": "2021-11-07T08:30:53.976546Z",
          "iopub.status.idle": "2021-11-07T08:36:24.221854Z",
          "shell.execute_reply.started": "2021-11-07T08:30:53.976499Z",
          "shell.execute_reply": "2021-11-07T08:36:24.221057Z"
        },
        "trusted": true,
        "id": "HnA_ty4UDvbq"
      },
      "execution_count": null,
      "outputs": []
    },
    {
      "cell_type": "code",
      "source": [
        "!wget https://github.com/NyanSwanAung/Object-Detection-Using-DETR-CustomDataset/releases/download/v1.0/wider_face_split.zip -O datasets/annotations.zip\n",
        "!unzip datasets/annotations.zip -d datasets\n",
        "!rm -r datasets/annotations.zip\n",
        "clear_output()"
      ],
      "metadata": {
        "execution": {
          "iopub.status.busy": "2021-11-07T08:36:24.223767Z",
          "iopub.execute_input": "2021-11-07T08:36:24.224038Z",
          "iopub.status.idle": "2021-11-07T08:36:29.213790Z",
          "shell.execute_reply.started": "2021-11-07T08:36:24.223998Z",
          "shell.execute_reply": "2021-11-07T08:36:29.212964Z"
        },
        "trusted": true,
        "id": "d4brGuRVDvbr"
      },
      "execution_count": null,
      "outputs": []
    },
    {
      "cell_type": "code",
      "source": [
        "!cp dataloaders/face.py detr/datasets"
      ],
      "metadata": {
        "execution": {
          "iopub.status.busy": "2021-11-07T08:36:29.215266Z",
          "iopub.execute_input": "2021-11-07T08:36:29.215541Z",
          "iopub.status.idle": "2021-11-07T08:36:31.725207Z",
          "shell.execute_reply.started": "2021-11-07T08:36:29.215502Z",
          "shell.execute_reply": "2021-11-07T08:36:31.724197Z"
        },
        "trusted": true,
        "id": "6bNmNHyfDvbt"
      },
      "execution_count": null,
      "outputs": []
    },
    {
      "cell_type": "code",
      "source": [
        "!cp dataloaders/covid.py detr/datasets"
      ],
      "metadata": {
        "execution": {
          "iopub.status.busy": "2021-11-07T08:36:31.727286Z",
          "iopub.execute_input": "2021-11-07T08:36:31.727588Z",
          "iopub.status.idle": "2021-11-07T08:36:32.528093Z",
          "shell.execute_reply.started": "2021-11-07T08:36:31.727546Z",
          "shell.execute_reply": "2021-11-07T08:36:32.527308Z"
        },
        "trusted": true,
        "id": "uTIzggEzDvbw"
      },
      "execution_count": null,
      "outputs": []
    },
    {
      "cell_type": "code",
      "source": [
        "!mkdir detr/outputs"
      ],
      "metadata": {
        "execution": {
          "iopub.status.busy": "2021-11-07T08:36:32.531714Z",
          "iopub.execute_input": "2021-11-07T08:36:32.531946Z",
          "iopub.status.idle": "2021-11-07T08:36:33.192642Z",
          "shell.execute_reply.started": "2021-11-07T08:36:32.531917Z",
          "shell.execute_reply": "2021-11-07T08:36:33.191753Z"
        },
        "trusted": true,
        "id": "BaCeMj-ODvbx"
      },
      "execution_count": null,
      "outputs": []
    },
    {
      "cell_type": "code",
      "source": [
        "!pip install -U 'git+https://github.com/cocodataset/cocoapi.git#subdirectory=PythonAPI'"
      ],
      "metadata": {
        "execution": {
          "iopub.status.busy": "2021-11-07T08:36:33.194382Z",
          "iopub.execute_input": "2021-11-07T08:36:33.194670Z",
          "iopub.status.idle": "2021-11-07T08:36:53.165315Z",
          "shell.execute_reply.started": "2021-11-07T08:36:33.194638Z",
          "shell.execute_reply": "2021-11-07T08:36:53.164449Z"
        },
        "trusted": true,
        "id": "4NVxC0hGDvbz"
      },
      "execution_count": null,
      "outputs": []
    },
    {
      "cell_type": "code",
      "source": [
        "import re\n",
        "import os\n",
        "import cv2\n",
        "import json\n",
        "import itertools\n",
        "import numpy as np\n",
        "from glob import glob\n",
        "import scipy.io as sio\n",
        "from pycocotools import mask as cocomask\n",
        "from PIL import Image\n",
        "\n",
        "\n",
        "MAX_N = 10\n",
        "\n",
        "categories = [\n",
        "    {\n",
        "        \"supercategory\": \"none\",\n",
        "        \"name\": \"face\",\n",
        "        \"id\": 0\n",
        "    }\n",
        "]\n",
        "\n",
        "phases = [\"train\", \"val\"]\n",
        "for phase in phases:\n",
        "    root_path = \"datasets/WIDER_{}/images/\".format(phase)\n",
        "    gt_path = os.path.join(\"datasets/wider_face_split/wider_face_{}.mat\".format(phase))\n",
        "    json_file = \"{}.json\".format(phase)\n",
        "\n",
        "    gt = sio.loadmat(gt_path)\n",
        "    event_list = gt.get(\"event_list\")\n",
        "    file_list = gt.get(\"file_list\")\n",
        "    face_bbox_list = gt.get(\"face_bbx_list\")\n",
        "\n",
        "    res_file = {\n",
        "        \"categories\": categories,\n",
        "        \"images\": [],\n",
        "        \"annotations\": []\n",
        "    }\n",
        "\n",
        "    annot_count = 0\n",
        "    image_id = 0\n",
        "    processed = 0\n",
        "    for event_idx, path in enumerate(event_list):\n",
        "        base_path = path[0][0]\n",
        "        for file_idx, img_name in enumerate(file_list[event_idx][0]):\n",
        "            file_path = img_name[0][0]\n",
        "            face_bbox = face_bbox_list[event_idx][0][file_idx][0]\n",
        "            num_boxes = face_bbox.shape[0]\n",
        "\n",
        "            if num_boxes > MAX_N:\n",
        "                continue\n",
        "\n",
        "            img_path = os.path.join(root_path, base_path, file_path + \".jpg\")\n",
        "            filename = os.path.join(base_path, file_path + \".jpg\")\n",
        "\n",
        "            img = Image.open(img_path)\n",
        "            img_w, img_h = img.size\n",
        "            img_elem = {\"file_name\": filename,\n",
        "                        \"height\": img_h,\n",
        "                        \"width\": img_w,\n",
        "                        \"id\": image_id}\n",
        "\n",
        "            res_file[\"images\"].append(img_elem)\n",
        "\n",
        "            for i in range(num_boxes):\n",
        "                xmin = int(face_bbox[i][0])\n",
        "                ymin = int(face_bbox[i][1])\n",
        "                xmax = int(face_bbox[i][2]) + xmin\n",
        "                ymax = int(face_bbox[i][3]) + ymin\n",
        "                w = xmax - xmin\n",
        "                h = ymax - ymin\n",
        "                area = w * h\n",
        "                poly = [[xmin, ymin],\n",
        "                        [xmax, ymin],\n",
        "                        [xmax, ymax],\n",
        "                        [xmin, ymax]]\n",
        "\n",
        "                annot_elem = {\n",
        "                    \"id\": annot_count,\n",
        "                    \"bbox\": [\n",
        "                        float(xmin),\n",
        "                        float(ymin),\n",
        "                        float(w),\n",
        "                        float(h)\n",
        "                    ],\n",
        "                    \"segmentation\": list([poly]),\n",
        "                    \"image_id\": image_id,\n",
        "                    \"ignore\": 0,\n",
        "                    \"category_id\": 0,\n",
        "                    \"iscrowd\": 0,\n",
        "                    \"area\": float(area)\n",
        "                }\n",
        "\n",
        "                res_file[\"annotations\"].append(annot_elem)\n",
        "                annot_count += 1\n",
        "\n",
        "            image_id += 1\n",
        "\n",
        "            processed += 1\n",
        "\n",
        "    with open(json_file, \"w\") as f:\n",
        "        json_str = json.dumps(res_file)\n",
        "        f.write(json_str)\n",
        "\n",
        "    print(\"Processed {} {} images...\".format(processed, phase))\n",
        "print(\"Done.\")"
      ],
      "metadata": {
        "execution": {
          "iopub.status.busy": "2021-11-07T08:36:53.167588Z",
          "iopub.execute_input": "2021-11-07T08:36:53.167894Z",
          "iopub.status.idle": "2021-11-07T08:36:56.282508Z",
          "shell.execute_reply.started": "2021-11-07T08:36:53.167851Z",
          "shell.execute_reply": "2021-11-07T08:36:56.281683Z"
        },
        "trusted": true,
        "id": "HQzFox3pDvb0"
      },
      "execution_count": null,
      "outputs": []
    },
    {
      "cell_type": "code",
      "source": [
        "!python datasets/face_to_coco.py"
      ],
      "metadata": {
        "execution": {
          "iopub.status.busy": "2021-11-07T08:36:56.283811Z",
          "iopub.execute_input": "2021-11-07T08:36:56.285559Z",
          "iopub.status.idle": "2021-11-07T08:36:57.286639Z",
          "shell.execute_reply.started": "2021-11-07T08:36:56.285515Z",
          "shell.execute_reply": "2021-11-07T08:36:57.285686Z"
        },
        "trusted": true,
        "id": "0vKPV4blDvb1"
      },
      "execution_count": null,
      "outputs": []
    },
    {
      "cell_type": "code",
      "source": [
        "!mv train.json datasets && mv val.json datasets"
      ],
      "metadata": {
        "execution": {
          "iopub.status.busy": "2021-11-07T08:36:57.290125Z",
          "iopub.execute_input": "2021-11-07T08:36:57.290382Z",
          "iopub.status.idle": "2021-11-07T08:36:57.956014Z",
          "shell.execute_reply.started": "2021-11-07T08:36:57.290350Z",
          "shell.execute_reply": "2021-11-07T08:36:57.955052Z"
        },
        "trusted": true,
        "id": "w7InmoqZDvb2"
      },
      "execution_count": null,
      "outputs": []
    },
    {
      "cell_type": "code",
      "source": [
        "DATASET_PATH = 'datasets'\n",
        "\n",
        "TRAIN_IMG = 'datasets/WIDER_train/images'\n",
        "TRAIN_JSON = 'datasets/train.json'\n",
        "\n",
        "VAL_IMG = 'datasets/WIDER_val/images'\n",
        "VAL_JSON = 'datasets/val.json'"
      ],
      "metadata": {
        "execution": {
          "iopub.status.busy": "2021-11-07T08:36:57.957840Z",
          "iopub.execute_input": "2021-11-07T08:36:57.958138Z",
          "iopub.status.idle": "2021-11-07T08:36:57.963060Z",
          "shell.execute_reply.started": "2021-11-07T08:36:57.958096Z",
          "shell.execute_reply": "2021-11-07T08:36:57.962272Z"
        },
        "trusted": true,
        "id": "84uojPDsDvb3"
      },
      "execution_count": null,
      "outputs": []
    },
    {
      "cell_type": "code",
      "source": [
        "import os \n",
        "print(os.path.exists(DATASET_PATH))\n",
        "print(os.path.exists(TRAIN_IMG))\n",
        "print(os.path.exists(TRAIN_JSON))\n",
        "print(os.path.exists(VAL_IMG))\n",
        "print(os.path.exists(VAL_JSON))"
      ],
      "metadata": {
        "execution": {
          "iopub.status.busy": "2021-11-07T08:36:57.964409Z",
          "iopub.execute_input": "2021-11-07T08:36:57.965194Z",
          "iopub.status.idle": "2021-11-07T08:36:57.974543Z",
          "shell.execute_reply.started": "2021-11-07T08:36:57.965140Z",
          "shell.execute_reply": "2021-11-07T08:36:57.973674Z"
        },
        "trusted": true,
        "id": "Jjy_BbHsDvb4"
      },
      "execution_count": null,
      "outputs": []
    },
    {
      "cell_type": "code",
      "source": [
        "!apt-get install software-properties-common -y\n",
        "!add-apt-repository ppa:ubuntu-toolchain-r/test -y\n",
        "!apt-get update -y\n",
        "!apt-get install gcc-8 -y\n",
        "!apt-get upgrade libstdc++6 -y"
      ],
      "metadata": {
        "execution": {
          "iopub.status.busy": "2021-11-07T08:36:57.975991Z",
          "iopub.execute_input": "2021-11-07T08:36:57.976396Z",
          "iopub.status.idle": "2021-11-07T08:41:13.520435Z",
          "shell.execute_reply.started": "2021-11-07T08:36:57.976361Z",
          "shell.execute_reply": "2021-11-07T08:41:13.519482Z"
        },
        "trusted": true,
        "id": "V9UdtEsfDvb4"
      },
      "execution_count": null,
      "outputs": []
    },
    {
      "cell_type": "code",
      "source": [
        "!python detr/main.py \\\n",
        "    --batch_size=16 \\\n",
        "    --epochs=19 \\\n",
        "    --num_classes=2 \\\n",
        "    --num_queries=100 \\\n",
        "    --dataset_file='face' \\\n",
        "    --data_path={DATASET_PATH} \\\n",
        "    --train_folder={TRAIN_IMG} \\\n",
        "    --train_json={TRAIN_JSON} \\\n",
        "    --val_folder={VAL_IMG} \\\n",
        "    --val_json={VAL_JSON} \\\n",
        "    --output_dir='detr/outputs' \\\n",
        "    --resume='https://dl.fbaipublicfiles.com/detr/detr-r50-e632da11.pth' #detr-resnet50"
      ],
      "metadata": {
        "execution": {
          "iopub.status.busy": "2021-11-07T08:41:13.522771Z",
          "iopub.execute_input": "2021-11-07T08:41:13.523378Z",
          "iopub.status.idle": "2021-11-07T13:49:06.479942Z",
          "shell.execute_reply.started": "2021-11-07T08:41:13.523331Z",
          "shell.execute_reply": "2021-11-07T13:49:06.479123Z"
        },
        "trusted": true,
        "id": "N6P_k8GVDvb5"
      },
      "execution_count": null,
      "outputs": []
    },
    {
      "cell_type": "code",
      "source": [
        "import torch\n",
        "import torchvision.transforms as T\n",
        "import matplotlib.pyplot as plt\n",
        "from PIL import Image\n",
        "import time \n",
        "import math\n",
        "import random\n",
        "%config InlineBackend.figure_format = 'retina'"
      ],
      "metadata": {
        "execution": {
          "iopub.status.busy": "2021-11-07T13:49:06.482710Z",
          "iopub.execute_input": "2021-11-07T13:49:06.483211Z",
          "iopub.status.idle": "2021-11-07T13:49:07.372237Z",
          "shell.execute_reply.started": "2021-11-07T13:49:06.483163Z",
          "shell.execute_reply": "2021-11-07T13:49:07.371482Z"
        },
        "trusted": true,
        "id": "S9hFD8WQDvb5"
      },
      "execution_count": null,
      "outputs": []
    },
    {
      "cell_type": "code",
      "source": [
        "import os \n",
        "os.mkdir('trained-weights')\n",
        "\n",
        "# Download trained-weights from my release page or import your trained-weights and set path\n",
        "%cd trained-weights\n",
        "!wget https://github.com/NyanSwanAung/Object-Detection-Using-DETR-CustomDataset/releases/download/v1.0/detr_r50_ep15.tar\n",
        "\n",
        "# Extract tar file\n",
        "!tar -xf detr_r50_ep15.tar\n",
        "!rm -r detr_r50_ep15.tar\n",
        "%cd .."
      ],
      "metadata": {
        "execution": {
          "iopub.status.busy": "2021-11-07T13:49:07.373600Z",
          "iopub.execute_input": "2021-11-07T13:49:07.373850Z",
          "iopub.status.idle": "2021-11-07T13:50:06.546669Z",
          "shell.execute_reply.started": "2021-11-07T13:49:07.373817Z",
          "shell.execute_reply": "2021-11-07T13:50:06.545813Z"
        },
        "trusted": true,
        "id": "j4n-sHkoDvb5"
      },
      "execution_count": null,
      "outputs": []
    },
    {
      "cell_type": "code",
      "source": [
        "# Load model from torch.hub and load ckpt file into model\n",
        "\n",
        "TRAINED_CKPT_PATH = 'trained-weights/checkpoint.pth'\n",
        "checkpoint = torch.load(TRAINED_CKPT_PATH, map_location='cpu')\n",
        "model = torch.hub.load('facebookresearch/detr', 'detr_resnet50', pretrained=False, num_classes=2)\n",
        "model.load_state_dict(checkpoint['model'], strict=False)"
      ],
      "metadata": {
        "execution": {
          "iopub.status.busy": "2021-11-07T13:50:06.549230Z",
          "iopub.execute_input": "2021-11-07T13:50:06.549787Z",
          "iopub.status.idle": "2021-11-07T13:50:11.153551Z",
          "shell.execute_reply.started": "2021-11-07T13:50:06.549747Z",
          "shell.execute_reply": "2021-11-07T13:50:11.152788Z"
        },
        "trusted": true,
        "id": "TkkQkGDnDvb6"
      },
      "execution_count": null,
      "outputs": []
    },
    {
      "cell_type": "code",
      "source": [
        "CLASSES = ['face']\n",
        "\n",
        "# colors for visualization\n",
        "COLORS = [[0.000, 0.447, 0.741]]"
      ],
      "metadata": {
        "execution": {
          "iopub.status.busy": "2021-11-07T13:50:11.154935Z",
          "iopub.execute_input": "2021-11-07T13:50:11.155204Z",
          "iopub.status.idle": "2021-11-07T13:50:11.159290Z",
          "shell.execute_reply.started": "2021-11-07T13:50:11.155168Z",
          "shell.execute_reply": "2021-11-07T13:50:11.158613Z"
        },
        "trusted": true,
        "id": "-EEk5xIZDvb6"
      },
      "execution_count": null,
      "outputs": []
    },
    {
      "cell_type": "code",
      "source": [
        "transform = T.Compose([\n",
        "    T.Resize(800),\n",
        "    T.ToTensor(),\n",
        "    T.Normalize([0.485, 0.456, 0.406], [0.229, 0.224, 0.225])\n",
        "])\n",
        "\n",
        "# for output bounding box post-processing\n",
        "def box_cxcywh_to_xyxy(x):\n",
        "    x_c, y_c, w, h = x.unbind(1)\n",
        "    b = [(x_c - 0.5 * w), (y_c - 0.5 * h),\n",
        "         (x_c + 0.5 * w), (y_c + 0.5 * h)]\n",
        "    return torch.stack(b, dim=1)\n",
        "\n",
        "def rescale_bboxes(out_bbox, size):\n",
        "    img_w, img_h = size\n",
        "    b = box_cxcywh_to_xyxy(out_bbox)\n",
        "    b = b * torch.tensor([img_w, img_h, img_w, img_h], dtype=torch.float32)\n",
        "    return b\n",
        "\n",
        "def plot_results(pil_img, prob, boxes):\n",
        "    plt.figure(figsize=(16,10))\n",
        "    plt.imshow(pil_img)\n",
        "    ax = plt.gca()\n",
        "    colors = COLORS * 100\n",
        "    for p, (xmin, ymin, xmax, ymax), c in zip(prob, boxes.tolist(), colors):\n",
        "        ax.add_patch(plt.Rectangle((xmin, ymin), xmax - xmin, ymax - ymin,\n",
        "                                   fill=False, color=c, linewidth=3))\n",
        "        cl = p.argmax()\n",
        "        text = f'{CLASSES[cl]}: {p[cl]:0.2f}'\n",
        "        ax.text(xmin, ymin, text, fontsize=15,\n",
        "                bbox=dict(facecolor='yellow', alpha=0.5))\n",
        "    plt.axis('off')\n",
        "    plt.show()\n",
        "\n",
        "def postprocess_img(img_path): \n",
        "  im = Image.open(img_path)\n",
        "\n",
        "  # mean-std normalize the input image (batch-size: 1)\n",
        "  img = transform(im).unsqueeze(0)\n",
        "\n",
        "  # propagate through the model\n",
        "  start = time.time()\n",
        "  outputs = model(img)\n",
        "  end = time.time()\n",
        "  print(f'Prediction time per image: {math.ceil(end - start)}s ', )\n",
        "\n",
        "  # keep only predictions with 0.7+ confidence\n",
        "  probas = outputs['pred_logits'].softmax(-1)[0, :, :-1]\n",
        "  keep = probas.max(-1).values > 0.9\n",
        "\n",
        "  # convert boxes from [0; 1] to image scales\n",
        "  bboxes_scaled = rescale_bboxes(outputs['pred_boxes'][0, keep], im.size)\n",
        "  \n",
        "  plot_results(im, probas[keep], bboxes_scaled)"
      ],
      "metadata": {
        "execution": {
          "iopub.status.busy": "2021-11-07T13:50:11.160562Z",
          "iopub.execute_input": "2021-11-07T13:50:11.161338Z",
          "iopub.status.idle": "2021-11-07T13:50:11.177012Z",
          "shell.execute_reply.started": "2021-11-07T13:50:11.161298Z",
          "shell.execute_reply": "2021-11-07T13:50:11.176221Z"
        },
        "trusted": true,
        "id": "hLYrrIwzDvb7"
      },
      "execution_count": null,
      "outputs": []
    },
    {
      "cell_type": "code",
      "source": [
        "# Load test image paths\n",
        "\n",
        "TEST_IMG_PATH = 'datasets/WIDER_test/images'\n",
        "\n",
        "img_format = {'jpg', 'png', 'jpeg'}\n",
        "paths = list()\n",
        "\n",
        "for obj in os.scandir(TEST_IMG_PATH):\n",
        "  if obj.is_dir():\n",
        "    paths_temp = [obj.path for obj in os.scandir(obj.path) if obj.name.split(\".\")[-1] in img_format]\n",
        "    paths.extend(paths_temp)\n",
        "\n",
        "print('Total number of test images: ', len(paths))\n",
        "random.shuffle(paths)"
      ],
      "metadata": {
        "execution": {
          "iopub.status.busy": "2021-11-07T13:50:11.178327Z",
          "iopub.execute_input": "2021-11-07T13:50:11.178659Z",
          "iopub.status.idle": "2021-11-07T13:50:11.241609Z",
          "shell.execute_reply.started": "2021-11-07T13:50:11.178621Z",
          "shell.execute_reply": "2021-11-07T13:50:11.240934Z"
        },
        "trusted": true,
        "id": "qLfBruXaDvb7"
      },
      "execution_count": null,
      "outputs": []
    },
    {
      "cell_type": "code",
      "source": [
        "for i in paths[1:10]:\n",
        "  postprocess_img(i)"
      ],
      "metadata": {
        "execution": {
          "iopub.status.busy": "2021-11-07T13:50:11.244913Z",
          "iopub.execute_input": "2021-11-07T13:50:11.245408Z",
          "iopub.status.idle": "2021-11-07T13:50:46.930523Z",
          "shell.execute_reply.started": "2021-11-07T13:50:11.245379Z",
          "shell.execute_reply": "2021-11-07T13:50:46.928200Z"
        },
        "trusted": true,
        "id": "-qmLhfwMDvb8"
      },
      "execution_count": null,
      "outputs": []
    },
    {
      "cell_type": "code",
      "source": [
        "for i in paths[800:811]:\n",
        "  postprocess_img(i)"
      ],
      "metadata": {
        "execution": {
          "iopub.status.busy": "2021-11-07T13:50:46.932362Z",
          "iopub.execute_input": "2021-11-07T13:50:46.932857Z"
        },
        "trusted": true,
        "id": "sEd-Ig85Dvb8"
      },
      "execution_count": null,
      "outputs": []
    },
    {
      "cell_type": "code",
      "source": [
        "for i in paths[1000:1011]:\n",
        "  postprocess_img(i)"
      ],
      "metadata": {
        "execution": {
          "iopub.status.idle": "2021-11-07T13:52:12.516472Z",
          "shell.execute_reply.started": "2021-11-07T13:51:31.788957Z",
          "shell.execute_reply": "2021-11-07T13:52:12.513068Z"
        },
        "trusted": true,
        "id": "HG2rizNdDvb9"
      },
      "execution_count": null,
      "outputs": []
    },
    {
      "cell_type": "code",
      "source": [
        "for i in paths[2000:2011]:\n",
        "  postprocess_img(i)"
      ],
      "metadata": {
        "execution": {
          "iopub.status.busy": "2021-11-07T13:52:12.518504Z",
          "iopub.execute_input": "2021-11-07T13:52:12.518924Z",
          "iopub.status.idle": "2021-11-07T13:52:55.656554Z",
          "shell.execute_reply.started": "2021-11-07T13:52:12.518889Z",
          "shell.execute_reply": "2021-11-07T13:52:55.655911Z"
        },
        "trusted": true,
        "id": "3Ambf6sZDvb9"
      },
      "execution_count": null,
      "outputs": []
    },
    {
      "cell_type": "code",
      "source": [
        "from detr.util.plot_utils import plot_logs\n",
        "from pathlib import Path\n",
        "\n",
        "log_directory = [Path('trained-weights')]"
      ],
      "metadata": {
        "execution": {
          "iopub.status.busy": "2021-11-07T13:52:55.658525Z",
          "iopub.execute_input": "2021-11-07T13:52:55.658944Z",
          "iopub.status.idle": "2021-11-07T13:52:55.986655Z",
          "shell.execute_reply.started": "2021-11-07T13:52:55.658907Z",
          "shell.execute_reply": "2021-11-07T13:52:55.985879Z"
        },
        "trusted": true,
        "id": "hsSxrmRADvb9"
      },
      "execution_count": null,
      "outputs": []
    },
    {
      "cell_type": "code",
      "source": [
        "fields_of_interest = (\n",
        "    'loss',\n",
        "    'mAP',\n",
        "    )\n",
        "\n",
        "plot_logs(log_directory,\n",
        "          fields_of_interest)"
      ],
      "metadata": {
        "execution": {
          "iopub.status.busy": "2021-11-07T13:52:55.987790Z",
          "iopub.execute_input": "2021-11-07T13:52:55.989235Z",
          "iopub.status.idle": "2021-11-07T13:52:56.612640Z",
          "shell.execute_reply.started": "2021-11-07T13:52:55.989193Z",
          "shell.execute_reply": "2021-11-07T13:52:56.611938Z"
        },
        "trusted": true,
        "id": "6YUqgzY1Dvb9"
      },
      "execution_count": null,
      "outputs": []
    },
    {
      "cell_type": "code",
      "source": [
        "fields_of_interest = (\n",
        "    'loss_ce',\n",
        "    'loss_bbox',\n",
        "    'loss_giou',\n",
        "    )\n",
        "\n",
        "plot_logs(log_directory,\n",
        "          fields_of_interest)"
      ],
      "metadata": {
        "execution": {
          "iopub.status.busy": "2021-11-07T13:52:56.613863Z",
          "iopub.execute_input": "2021-11-07T13:52:56.614186Z",
          "iopub.status.idle": "2021-11-07T13:52:57.488613Z",
          "shell.execute_reply.started": "2021-11-07T13:52:56.614154Z",
          "shell.execute_reply": "2021-11-07T13:52:57.487925Z"
        },
        "trusted": true,
        "id": "4wQVWTwHDvb-"
      },
      "execution_count": null,
      "outputs": []
    },
    {
      "cell_type": "code",
      "source": [
        "fields_of_interest = (\n",
        "    'class_error',\n",
        "    'cardinality_error_unscaled',\n",
        "    )\n",
        "\n",
        "plot_logs(log_directory,\n",
        "          fields_of_interest)"
      ],
      "metadata": {
        "execution": {
          "iopub.status.busy": "2021-11-07T13:52:57.489952Z",
          "iopub.execute_input": "2021-11-07T13:52:57.490225Z",
          "iopub.status.idle": "2021-11-07T13:52:58.063806Z",
          "shell.execute_reply.started": "2021-11-07T13:52:57.490196Z",
          "shell.execute_reply": "2021-11-07T13:52:58.062929Z"
        },
        "trusted": true,
        "id": "XRGK1wezDvb-"
      },
      "execution_count": null,
      "outputs": []
    }
  ]
}